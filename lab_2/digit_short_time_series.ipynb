{
 "cells": [
  {
   "cell_type": "markdown",
   "metadata": {},
   "source": [
    "### __Импорт библиотек__"
   ]
  },
  {
   "cell_type": "code",
   "execution_count": 1,
   "metadata": {},
   "outputs": [],
   "source": [
    "import pandas as pd\n",
    "import matplotlib.pyplot as plt\n",
    "from statsmodels.tsa.seasonal import seasonal_decompose\n",
    "from statsmodels.tsa.statespace.sarimax import SARIMAX"
   ]
  },
  {
   "cell_type": "markdown",
   "metadata": {},
   "source": [
    "### __Подготовка данных__"
   ]
  },
  {
   "cell_type": "code",
   "execution_count": null,
   "metadata": {},
   "outputs": [],
   "source": [
    "# Загрузка данных\n",
    "data = pd.read_csv('10_Гостиницы Чикаго CMAHS Average Daily Rate/Chicago_hotels.csv', delimiter=';')\n",
    "\n",
    "# Очистка данных: замена запятых на точки и удаление пробелов\n",
    "data['x2'] = data['x2'].str.replace(',', '.').str.strip()\n",
    "\n",
    "# Преобразование в числовой формат и пропуск некорректных значений\n",
    "data['x2'] = pd.to_numeric(data['x2'], errors='coerce')\n",
    "data = data.dropna(subset=['x2'])  # Удаление строк с NaN\n",
    "\n",
    "# Подготовка временного ряда\n",
    "start_date = '1994-01'\n",
    "end_date = pd.date_range(start=start_date, periods=len(data), freq='M')  # Создание временного индекса\n",
    "\n",
    "# Присваивание временного индекса\n",
    "data['date'] = end_date\n",
    "data.set_index('date', inplace=True)\n",
    "\n",
    "time_series = data['x2']\n"
   ]
  },
  {
   "cell_type": "markdown",
   "metadata": {},
   "source": [
    "### __Построение графика исходного временного ряда__"
   ]
  },
  {
   "cell_type": "code",
   "execution_count": null,
   "metadata": {},
   "outputs": [],
   "source": [
    "# Построение графика исходного временного ряда\n",
    "plt.figure(figsize=(12, 6))\n",
    "plt.plot(time_series, label='Средняя цена в Metropolitan Area')\n",
    "plt.title('Исходный временной ряд: Средняя цена в Metropolitan Area')\n",
    "plt.xlabel('Год')\n",
    "plt.ylabel('Средняя цена ($)')\n",
    "plt.grid(True)\n",
    "plt.legend()\n",
    "plt.show()"
   ]
  },
  {
   "cell_type": "markdown",
   "metadata": {},
   "source": [
    "### __Декомпозиция ряда на тренд, сезонность и остатки__"
   ]
  },
  {
   "cell_type": "code",
   "execution_count": null,
   "metadata": {},
   "outputs": [],
   "source": [
    "result = seasonal_decompose(time_series, model='additive', period=12)\n",
    "\n",
    "plt.figure(figsize=(12, 6))\n",
    "plt.subplot(211)\n",
    "plt.plot(result.trend)\n",
    "plt.title('Тренд')\n",
    "plt.xlabel('Год')\n",
    "plt.ylabel('Значение')\n",
    "plt.grid(True)\n",
    "\n",
    "plt.subplot(212)\n",
    "plt.plot(result.seasonal)\n",
    "plt.title('Сезонность')\n",
    "plt.xlabel('Год')\n",
    "plt.ylabel('Значение')\n",
    "plt.grid(True)\n",
    "\n",
    "plt.tight_layout()\n",
    "plt.show()"
   ]
  },
  {
   "cell_type": "markdown",
   "metadata": {},
   "source": [
    "### __SARIMA модель__"
   ]
  },
  {
   "cell_type": "code",
   "execution_count": null,
   "metadata": {},
   "outputs": [],
   "source": [
    "p, d, q = 1, 1, 1\n",
    "P, D, Q, s = 1, 1, 1, 12\n",
    "model = SARIMAX(time_series, order=(p, d, q), seasonal_order=(P, D, Q, s))\n",
    "results = model.fit()\n",
    "\n",
    "# Прогноз на 8 месяцев вперед\n",
    "forecast_steps = 8\n",
    "forecast = results.get_forecast(steps=forecast_steps)\n",
    "forecast_conf_int = forecast.conf_int()\n",
    "\n",
    "# Построение графика прогноза\n",
    "plt.figure(figsize=(12, 6))\n",
    "plt.plot(time_series, label='Исходный ряд', color='blue')\n",
    "plt.plot(forecast.predicted_mean, label='Прогноз', color='red')\n",
    "plt.fill_between(forecast_conf_int.index, forecast_conf_int.iloc[:, 0], forecast_conf_int.iloc[:, 1], color='pink', alpha=0.3)\n",
    "\n",
    "plt.title('Прогноз SARIMA на 8 месяцев вперед')\n",
    "plt.xlabel('Месяц')\n",
    "plt.ylabel('Средняя цена ($)')\n",
    "plt.legend()\n",
    "plt.grid(True)\n",
    "plt.show()"
   ]
  },
  {
   "cell_type": "markdown",
   "metadata": {},
   "source": [
    "### __Вывод спрогнозированных значений__"
   ]
  },
  {
   "cell_type": "code",
   "execution_count": null,
   "metadata": {},
   "outputs": [],
   "source": [
    "forecast_values = forecast.predicted_mean[-forecast_steps:]\n",
    "print('Спрогнозированные значения на 8 месяцев вперед:')\n",
    "print(forecast_values)"
   ]
  }
 ],
 "metadata": {
  "kernelspec": {
   "display_name": ".venv",
   "language": "python",
   "name": "python3"
  },
  "language_info": {
   "codemirror_mode": {
    "name": "ipython",
    "version": 3
   },
   "file_extension": ".py",
   "mimetype": "text/x-python",
   "name": "python",
   "nbconvert_exporter": "python",
   "pygments_lexer": "ipython3",
   "version": "3.12.6"
  }
 },
 "nbformat": 4,
 "nbformat_minor": 2
}
