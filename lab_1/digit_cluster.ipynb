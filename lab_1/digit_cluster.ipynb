{
 "cells": [
  {
   "cell_type": "markdown",
   "metadata": {},
   "source": [
    "### __Импорт библиотек__"
   ]
  },
  {
   "cell_type": "code",
   "execution_count": 1,
   "metadata": {},
   "outputs": [],
   "source": [
    "import pandas as pd\n",
    "import matplotlib.pyplot as plt\n",
    "from sklearn.preprocessing import StandardScaler\n",
    "from sklearn.cluster import KMeans\n",
    "from sklearn.manifold import MDS\n",
    "from scipy.cluster.hierarchy import dendrogram, linkage"
   ]
  },
  {
   "cell_type": "markdown",
   "metadata": {},
   "source": [
    "### __Загрузка данных и их подготовка к анализу__"
   ]
  },
  {
   "cell_type": "code",
   "execution_count": null,
   "metadata": {},
   "outputs": [],
   "source": [
    "# Чтение данных digit.dat\n",
    "data = pd.read_csv('10_Цифры/digit.dat', sep=';')\n",
    "\n",
    "# Очистка данных от лишних пробелов\n",
    "data = data.applymap(lambda x: x.strip() if isinstance(x, str) else x)\n",
    "\n",
    "# Преобразование категориальных данных (замена текста на цифры)\n",
    "data.replace({\n",
    "    'ZERO': 0,\n",
    "    'ONE': 1,\n",
    "    'one': 1,\n",
    "    'two': 2,\n",
    "    'three': 3,\n",
    "    'four': 4,\n",
    "    'five': 5,\n",
    "    'six': 6,\n",
    "    'seven': 7,\n",
    "    'eight': 8,\n",
    "    'nine': 9\n",
    "}, inplace=True)\n",
    "\n",
    "# Преобразование столбца 'A' в числовой тип данных\n",
    "data['A'] = pd.to_numeric(data['A'], errors='coerce')\n",
    "\n",
    "# Выбор переменных\n",
    "selected_columns = ['B', 'C', 'D', 'E', 'F', 'G', 'H']  # Var1,..., Var7\n",
    "\n",
    "data_X = data[selected_columns]\n",
    "data_Y = data['A']  # Digit (зависимая переменная)"
   ]
  },
  {
   "cell_type": "markdown",
   "metadata": {},
   "source": [
    "### __Стандартизация данных__"
   ]
  },
  {
   "cell_type": "code",
   "execution_count": 10,
   "metadata": {},
   "outputs": [],
   "source": [
    "# Стандартизация данных\n",
    "scaler = StandardScaler()\n",
    "data_scaled = scaler.fit_transform(data_X)\n"
   ]
  },
  {
   "cell_type": "markdown",
   "metadata": {},
   "source": [
    "### __Визуализация иерархической кластеризации__"
   ]
  },
  {
   "cell_type": "code",
   "execution_count": null,
   "metadata": {},
   "outputs": [],
   "source": [
    "# Иерархическая кластеризация\n",
    "linkage_matrix = linkage(data_scaled, method='ward', metric='euclidean')\n",
    "\n",
    "# Визуализация дендрограммы\n",
    "plt.figure(figsize=(12, 6))\n",
    "dendrogram(linkage_matrix)\n",
    "plt.title('Дендрограмма')\n",
    "plt.xlabel('Точки данных')\n",
    "plt.ylabel('Расстояние')\n",
    "plt.show()"
   ]
  },
  {
   "cell_type": "markdown",
   "metadata": {},
   "source": [
    "### __Построение метода \"локтя\"__"
   ]
  },
  {
   "cell_type": "code",
   "execution_count": null,
   "metadata": {},
   "outputs": [],
   "source": [
    "# Определение оптимального числа кластеров (метод \"локоть\")\n",
    "distances = []\n",
    "for i in range(1, 11):\n",
    "    kmeans = KMeans(n_clusters=i, random_state=0, n_init=12, algorithm='lloyd')\n",
    "    kmeans.fit(data_scaled)\n",
    "    distances.append(kmeans.inertia_)\n",
    "\n",
    "plt.figure(figsize=(8, 6))\n",
    "plt.plot(range(1, 11), distances, marker='o', linestyle='-')\n",
    "plt.title('Метод локтя')\n",
    "plt.xlabel('Количество кластеров')\n",
    "plt.ylabel('Сумма квадратов внутри кластера')\n",
    "\n",
    "\n",
    "plt.show()"
   ]
  },
  {
   "cell_type": "markdown",
   "metadata": {},
   "source": [
    "### __Кластеризация методом k средних__"
   ]
  },
  {
   "cell_type": "code",
   "execution_count": null,
   "metadata": {},
   "outputs": [],
   "source": [
    "# Кластеризация методом k средних для 5 кластеров\n",
    "n_clusters = 5\n",
    "kmeans = KMeans(n_clusters=n_clusters, random_state=0, algorithm='lloyd')\n",
    "kmeans.fit(data_scaled)"
   ]
  },
  {
   "cell_type": "markdown",
   "metadata": {},
   "source": [
    "### __Многомерное шкалирование__"
   ]
  },
  {
   "cell_type": "code",
   "execution_count": null,
   "metadata": {},
   "outputs": [],
   "source": [
    "# Многомерное шкалирование для визуализации\n",
    "mds = MDS(n_components=2, random_state=0)\n",
    "data_2d = mds.fit_transform(data_scaled)\n",
    "\n",
    "plt.figure(figsize=(8, 6))\n",
    "plt.scatter(data_2d[:, 0], data_2d[:, 1], c=kmeans.labels_, cmap='rainbow')\n",
    "plt.title('Визуализация кластеризации (Многомерное шкалирование)')\n",
    "plt.xlabel('Количество зажженных горизонтальных сегментов')\n",
    "plt.ylabel('Количество зажженных вертикальных сегментов')\n",
    "plt.show()\n",
    "\n"
   ]
  },
  {
   "cell_type": "markdown",
   "metadata": {},
   "source": [
    "### __Интерпретация результатов кластеризации__"
   ]
  },
  {
   "cell_type": "code",
   "execution_count": null,
   "metadata": {},
   "outputs": [],
   "source": [
    "# Интерпретация результатов кластеризации\n",
    "# 'B', 'C', 'D', 'E', 'F', 'G', 'H' <-> Var1,..., Var7\n",
    "data['Cluster'] = kmeans.labels_\n",
    "numeric_columns = selected_columns + ['A']\n",
    "cluster_means = data.groupby('Cluster')[numeric_columns].mean()\n",
    "print(cluster_means)"
   ]
  }
 ],
 "metadata": {
  "kernelspec": {
   "display_name": ".venv",
   "language": "python",
   "name": "python3"
  },
  "language_info": {
   "codemirror_mode": {
    "name": "ipython",
    "version": 3
   },
   "file_extension": ".py",
   "mimetype": "text/x-python",
   "name": "python",
   "nbconvert_exporter": "python",
   "pygments_lexer": "ipython3",
   "version": "3.12.6"
  }
 },
 "nbformat": 4,
 "nbformat_minor": 2
}
